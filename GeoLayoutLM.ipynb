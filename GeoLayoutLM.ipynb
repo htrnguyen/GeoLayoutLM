{
  "cells": [
    {
      "cell_type": "code",
      "execution_count": 14,
      "metadata": {},
      "outputs": [
        {
          "name": "stdout",
          "output_type": "stream",
          "text": [
            "c:\\Users\\NGUYEN\\Desktop\\GeoLayoutLM\n"
          ]
        }
      ],
      "source": [
        "%cd .."
      ]
    },
    {
      "cell_type": "code",
      "execution_count": 15,
      "metadata": {},
      "outputs": [
        {
          "name": "stdout",
          "output_type": "stream",
          "text": [
            "c:\\Users\\NGUYEN\\Desktop\\GeoLayoutLM\\dataset\\training_data\n"
          ]
        }
      ],
      "source": [
        "%cd dataset/training_data"
      ]
    },
    {
      "cell_type": "code",
      "execution_count": 16,
      "metadata": {},
      "outputs": [
        {
          "name": "stdout",
          "output_type": "stream",
          "text": [
            "Số lượng tệp trong thư mục images: 149\n",
            "Số lượng tệp trong thư mục annotations: 149\n",
            "Tổng số lượng tệp: 298\n"
          ]
        }
      ],
      "source": [
        "import os\n",
        "def count_files(directory):\n",
        "    return len([name for name in os.listdir(directory) if os.path.isfile(os.path.join(directory, name))])\n",
        "\n",
        "# Đường dẫn đến các thư mục\n",
        "images_dir = './images'\n",
        "annotations_dir = './annotations'\n",
        "\n",
        "# Đếm số lượng tệp\n",
        "images_count = count_files(images_dir)\n",
        "annotations_count = count_files(annotations_dir)\n",
        "\n",
        "print(f\"Số lượng tệp trong thư mục images: {images_count}\")\n",
        "print(f\"Số lượng tệp trong thư mục annotations: {annotations_count}\")\n",
        "print(f\"Tổng số lượng tệp: {images_count + annotations_count}\")"
      ]
    }
  ],
  "metadata": {
    "colab": {
      "provenance": []
    },
    "kernelspec": {
      "display_name": "Python 3",
      "name": "python3"
    },
    "language_info": {
      "codemirror_mode": {
        "name": "ipython",
        "version": 3
      },
      "file_extension": ".py",
      "mimetype": "text/x-python",
      "name": "python",
      "nbconvert_exporter": "python",
      "pygments_lexer": "ipython3",
      "version": "3.7.0"
    }
  },
  "nbformat": 4,
  "nbformat_minor": 0
}
